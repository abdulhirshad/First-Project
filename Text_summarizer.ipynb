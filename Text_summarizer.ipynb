{
  "nbformat": 4,
  "nbformat_minor": 0,
  "metadata": {
    "colab": {
      "name": "Text_summarizer.ipynb",
      "provenance": [],
      "authorship_tag": "ABX9TyPTRsuWtKxzCWYbabC5ZmWG",
      "include_colab_link": true
    },
    "kernelspec": {
      "name": "python3",
      "display_name": "Python 3"
    }
  },
  "cells": [
    {
      "cell_type": "markdown",
      "metadata": {
        "id": "view-in-github",
        "colab_type": "text"
      },
      "source": [
        "<a href=\"https://colab.research.google.com/github/abdulhirshad/First-Project/blob/master/Text_summarizer.ipynb\" target=\"_parent\"><img src=\"https://colab.research.google.com/assets/colab-badge.svg\" alt=\"Open In Colab\"/></a>"
      ]
    },
    {
      "cell_type": "code",
      "metadata": {
        "id": "MA_0tDDK1Fog",
        "colab_type": "code",
        "colab": {}
      },
      "source": [
        "import spacy\n",
        "import en_core_web_sm"
      ],
      "execution_count": 81,
      "outputs": []
    },
    {
      "cell_type": "code",
      "metadata": {
        "id": "gdR2TYHczaPP",
        "colab_type": "code",
        "colab": {}
      },
      "source": [
        "from spacy.lang.en.stop_words import STOP_WORDS\n",
        "from string import punctuation"
      ],
      "execution_count": 82,
      "outputs": []
    },
    {
      "cell_type": "code",
      "metadata": {
        "id": "3mUBRZMs0DMP",
        "colab_type": "code",
        "colab": {}
      },
      "source": [
        " stop_words = list(STOP_WORDS)"
      ],
      "execution_count": 83,
      "outputs": []
    },
    {
      "cell_type": "code",
      "metadata": {
        "id": "SLPiuI5Q2ISd",
        "colab_type": "code",
        "colab": {}
      },
      "source": [
        "nlp = spacy.load('en_core_web_sm')"
      ],
      "execution_count": 84,
      "outputs": []
    },
    {
      "cell_type": "code",
      "metadata": {
        "id": "CnrhI1KJ2iTn",
        "colab_type": "code",
        "colab": {}
      },
      "source": [
        "text = '''Today various organizations, be it online shopping, government and private sector organizations, catering and tourism industry or other institutions that offer customer services are concerned about their customers and ask for feedback every single time we use their services. Consider the fact, that these companies may be receiving enormous amounts of user feedback every single day. And it would become quite tedious for the management to sit and analyze each of those.\n",
        "But, the technologies today have reached to an extent where they can do all the tasks of human beings. And the field which makes these things happen is Machine Learning. The machines have become capable of understanding human languages using Natural Language Processing. Today researches are being done in the field of text analytics.\n",
        "And one such application of text analytics and NLP is a Feedback Summarizer which helps in summarizing and shortening the text in the user feedback. This can be done an algorithm to reduce bodies of text but keeping its original meaning, or giving a great insight into the original text.'''"
      ],
      "execution_count": 85,
      "outputs": []
    },
    {
      "cell_type": "code",
      "metadata": {
        "id": "9ztHtP07FNWn",
        "colab_type": "code",
        "colab": {}
      },
      "source": [
        "text = text.lower()"
      ],
      "execution_count": 111,
      "outputs": []
    },
    {
      "cell_type": "code",
      "metadata": {
        "id": "vI2Sh9654WBE",
        "colab_type": "code",
        "colab": {}
      },
      "source": [
        "doc = nlp(text)"
      ],
      "execution_count": 112,
      "outputs": []
    },
    {
      "cell_type": "code",
      "metadata": {
        "id": "9lW9bwbj4cQF",
        "colab_type": "code",
        "colab": {
          "base_uri": "https://localhost:8080/",
          "height": 55
        },
        "outputId": "5798d1bc-0261-4246-b869-7ef416083c9e"
      },
      "source": [
        "tokens = [token.text for token in doc]\n",
        "print(tokens)"
      ],
      "execution_count": 113,
      "outputs": [
        {
          "output_type": "stream",
          "text": [
            "['today', 'various', 'organizations', ',', 'be', 'it', 'online', 'shopping', ',', 'government', 'and', 'private', 'sector', 'organizations', ',', 'catering', 'and', 'tourism', 'industry', 'or', 'other', 'institutions', 'that', 'offer', 'customer', 'services', 'are', 'concerned', 'about', 'their', 'customers', 'and', 'ask', 'for', 'feedback', 'every', 'single', 'time', 'we', 'use', 'their', 'services', '.', 'consider', 'the', 'fact', ',', 'that', 'these', 'companies', 'may', 'be', 'receiving', 'enormous', 'amounts', 'of', 'user', 'feedback', 'every', 'single', 'day', '.', 'and', 'it', 'would', 'become', 'quite', 'tedious', 'for', 'the', 'management', 'to', 'sit', 'and', 'analyze', 'each', 'of', 'those', '.', '\\n', 'but', ',', 'the', 'technologies', 'today', 'have', 'reached', 'to', 'an', 'extent', 'where', 'they', 'can', 'do', 'all', 'the', 'tasks', 'of', 'human', 'beings', '.', 'and', 'the', 'field', 'which', 'makes', 'these', 'things', 'happen', 'is', 'machine', 'learning', '.', 'the', 'machines', 'have', 'become', 'capable', 'of', 'understanding', 'human', 'languages', 'using', 'natural', 'language', 'processing', '.', 'today', 'researches', 'are', 'being', 'done', 'in', 'the', 'field', 'of', 'text', 'analytics', '.', '\\n', 'and', 'one', 'such', 'application', 'of', 'text', 'analytics', 'and', 'nlp', 'is', 'a', 'feedback', 'summarizer', 'which', 'helps', 'in', 'summarizing', 'and', 'shortening', 'the', 'text', 'in', 'the', 'user', 'feedback', '.', 'this', 'can', 'be', 'done', 'an', 'algorithm', 'to', 'reduce', 'bodies', 'of', 'text', 'but', 'keeping', 'its', 'original', 'meaning', ',', 'or', 'giving', 'a', 'great', 'insight', 'into', 'the', 'original', 'text', '.']\n"
          ],
          "name": "stdout"
        }
      ]
    },
    {
      "cell_type": "code",
      "metadata": {
        "id": "FWHF3m-j5Lpw",
        "colab_type": "code",
        "colab": {
          "base_uri": "https://localhost:8080/",
          "height": 36
        },
        "outputId": "61df7a31-7605-49c3-d21a-d2152fb78c57"
      },
      "source": [
        "punctuation"
      ],
      "execution_count": 114,
      "outputs": [
        {
          "output_type": "execute_result",
          "data": {
            "application/vnd.google.colaboratory.intrinsic": {
              "type": "string"
            },
            "text/plain": [
              "'!\"#$%&\\'()*+,-./:;<=>?@[\\\\]^_`{|}~'"
            ]
          },
          "metadata": {
            "tags": []
          },
          "execution_count": 114
        }
      ]
    },
    {
      "cell_type": "code",
      "metadata": {
        "id": "mtWXkQNC5gKM",
        "colab_type": "code",
        "colab": {}
      },
      "source": [
        "word_frequencies = {} \n",
        "for word in doc:\n",
        "  if word.text.lower() not in stop_words:\n",
        "    if word.text.lower() not in punctuation:\n",
        "      if word.text.lower() not in word_frequencies.keys():\n",
        "        word_frequencies[word.text] = 1\n",
        "      else:\n",
        "         word_frequencies[word.text] += 1"
      ],
      "execution_count": 116,
      "outputs": []
    },
    {
      "cell_type": "code",
      "metadata": {
        "id": "5HHiO2rH6sMA",
        "colab_type": "code",
        "colab": {
          "base_uri": "https://localhost:8080/",
          "height": 55
        },
        "outputId": "041c4208-60de-4089-8cab-9ae735509ea5"
      },
      "source": [
        "print(word_frequencies)"
      ],
      "execution_count": 117,
      "outputs": [
        {
          "output_type": "stream",
          "text": [
            "{'today': 3, 'organizations': 2, 'online': 1, 'shopping': 1, 'government': 1, 'private': 1, 'sector': 1, 'catering': 1, 'tourism': 1, 'industry': 1, 'institutions': 1, 'offer': 1, 'customer': 1, 'services': 2, 'concerned': 1, 'customers': 1, 'ask': 1, 'feedback': 4, 'single': 2, 'time': 1, 'use': 1, 'consider': 1, 'fact': 1, 'companies': 1, 'receiving': 1, 'enormous': 1, 'amounts': 1, 'user': 2, 'day': 1, 'tedious': 1, 'management': 1, 'sit': 1, 'analyze': 1, '\\n': 2, 'technologies': 1, 'reached': 1, 'extent': 1, 'tasks': 1, 'human': 2, 'beings': 1, 'field': 2, 'makes': 1, 'things': 1, 'happen': 1, 'machine': 1, 'learning': 1, 'machines': 1, 'capable': 1, 'understanding': 1, 'languages': 1, 'natural': 1, 'language': 1, 'processing': 1, 'researches': 1, 'text': 5, 'analytics': 2, 'application': 1, 'nlp': 1, 'summarizer': 1, 'helps': 1, 'summarizing': 1, 'shortening': 1, 'algorithm': 1, 'reduce': 1, 'bodies': 1, 'keeping': 1, 'original': 2, 'meaning': 1, 'giving': 1, 'great': 1, 'insight': 1}\n"
          ],
          "name": "stdout"
        }
      ]
    },
    {
      "cell_type": "code",
      "metadata": {
        "id": "6x-oTZ5V7-Hz",
        "colab_type": "code",
        "colab": {
          "base_uri": "https://localhost:8080/",
          "height": 35
        },
        "outputId": "effb5c13-4dda-479c-e40d-d7eb91a3589b"
      },
      "source": [
        "max_freq = max(word_frequencies.values())\n",
        "max_freq"
      ],
      "execution_count": 118,
      "outputs": [
        {
          "output_type": "execute_result",
          "data": {
            "text/plain": [
              "5"
            ]
          },
          "metadata": {
            "tags": []
          },
          "execution_count": 118
        }
      ]
    },
    {
      "cell_type": "code",
      "metadata": {
        "id": "IW8ftCGT9DpE",
        "colab_type": "code",
        "colab": {}
      },
      "source": [
        "for word in word_frequencies.keys():\n",
        "  word_frequencies[word] = word_frequencies[word]/max_freq"
      ],
      "execution_count": 119,
      "outputs": []
    },
    {
      "cell_type": "code",
      "metadata": {
        "id": "d7it-rOc9uVv",
        "colab_type": "code",
        "colab": {
          "base_uri": "https://localhost:8080/",
          "height": 55
        },
        "outputId": "350f2cda-60ef-4776-935a-33a3495511a7"
      },
      "source": [
        "print(word_frequencies)"
      ],
      "execution_count": 120,
      "outputs": [
        {
          "output_type": "stream",
          "text": [
            "{'today': 0.6, 'organizations': 0.4, 'online': 0.2, 'shopping': 0.2, 'government': 0.2, 'private': 0.2, 'sector': 0.2, 'catering': 0.2, 'tourism': 0.2, 'industry': 0.2, 'institutions': 0.2, 'offer': 0.2, 'customer': 0.2, 'services': 0.4, 'concerned': 0.2, 'customers': 0.2, 'ask': 0.2, 'feedback': 0.8, 'single': 0.4, 'time': 0.2, 'use': 0.2, 'consider': 0.2, 'fact': 0.2, 'companies': 0.2, 'receiving': 0.2, 'enormous': 0.2, 'amounts': 0.2, 'user': 0.4, 'day': 0.2, 'tedious': 0.2, 'management': 0.2, 'sit': 0.2, 'analyze': 0.2, '\\n': 0.4, 'technologies': 0.2, 'reached': 0.2, 'extent': 0.2, 'tasks': 0.2, 'human': 0.4, 'beings': 0.2, 'field': 0.4, 'makes': 0.2, 'things': 0.2, 'happen': 0.2, 'machine': 0.2, 'learning': 0.2, 'machines': 0.2, 'capable': 0.2, 'understanding': 0.2, 'languages': 0.2, 'natural': 0.2, 'language': 0.2, 'processing': 0.2, 'researches': 0.2, 'text': 1.0, 'analytics': 0.4, 'application': 0.2, 'nlp': 0.2, 'summarizer': 0.2, 'helps': 0.2, 'summarizing': 0.2, 'shortening': 0.2, 'algorithm': 0.2, 'reduce': 0.2, 'bodies': 0.2, 'keeping': 0.2, 'original': 0.4, 'meaning': 0.2, 'giving': 0.2, 'great': 0.2, 'insight': 0.2}\n"
          ],
          "name": "stdout"
        }
      ]
    },
    {
      "cell_type": "code",
      "metadata": {
        "id": "tMUSYBIQ9xA0",
        "colab_type": "code",
        "colab": {
          "base_uri": "https://localhost:8080/",
          "height": 203
        },
        "outputId": "7a3c8ab6-34e0-4890-ceed-f8d19178a14f"
      },
      "source": [
        "sentence_tokens = [sent for sent in doc.sents]\n",
        "sentence_tokens"
      ],
      "execution_count": 121,
      "outputs": [
        {
          "output_type": "execute_result",
          "data": {
            "text/plain": [
              "[today various organizations, be it online shopping, government and private sector organizations, catering and tourism industry or other institutions that offer customer services are concerned about their customers and ask for feedback every single time we use their services.,\n",
              " consider the fact, that these companies may be receiving enormous amounts of user feedback every single day.,\n",
              " and it would become quite tedious for the management to sit and analyze each of those.,\n",
              " but, the technologies today have reached to an extent where they can do all the tasks of human beings.,\n",
              " and the field which makes these things happen is machine learning.,\n",
              " the machines have become capable of understanding human languages using natural language processing.,\n",
              " today researches are being done in the field of text analytics.,\n",
              " and one such application of text analytics and nlp is a feedback summarizer which helps in summarizing and shortening the text in the user feedback.,\n",
              " this can be done an algorithm to reduce bodies of text but keeping its original meaning, or giving a great insight into the original text.]"
            ]
          },
          "metadata": {
            "tags": []
          },
          "execution_count": 121
        }
      ]
    },
    {
      "cell_type": "code",
      "metadata": {
        "id": "1Fb0yEV9-hNU",
        "colab_type": "code",
        "colab": {}
      },
      "source": [
        "sent_scores = {}\n",
        "for sent in sentence_tokens:\n",
        "  for word in sent:\n",
        "    if word.text.lower() in word_frequencies.keys():\n",
        "      if sent not in sent_scores.keys():\n",
        "        sent_scores[sent] = word_frequencies[word.text.lower()] \n",
        "      else:\n",
        "        sent_scores[sent] += word_frequencies[word.text.lower()] "
      ],
      "execution_count": 122,
      "outputs": []
    },
    {
      "cell_type": "code",
      "metadata": {
        "id": "n8ToSP60_GZu",
        "colab_type": "code",
        "colab": {
          "base_uri": "https://localhost:8080/",
          "height": 203
        },
        "outputId": "a3dfd106-283d-4770-c207-2b8b7f6a2b78"
      },
      "source": [
        "sent_scores"
      ],
      "execution_count": 123,
      "outputs": [
        {
          "output_type": "execute_result",
          "data": {
            "text/plain": [
              "{today various organizations, be it online shopping, government and private sector organizations, catering and tourism industry or other institutions that offer customer services are concerned about their customers and ask for feedback every single time we use their services.: 6.600000000000002,\n",
              " consider the fact, that these companies may be receiving enormous amounts of user feedback every single day.: 3.0000000000000004,\n",
              " and it would become quite tedious for the management to sit and analyze each of those.: 1.2000000000000002,\n",
              " but, the technologies today have reached to an extent where they can do all the tasks of human beings.: 1.9999999999999998,\n",
              " and the field which makes these things happen is machine learning.: 1.4,\n",
              " the machines have become capable of understanding human languages using natural language processing.: 1.7999999999999998,\n",
              " today researches are being done in the field of text analytics.: 3.0,\n",
              " and one such application of text analytics and nlp is a feedback summarizer which helps in summarizing and shortening the text in the user feedback.: 5.6000000000000005,\n",
              " this can be done an algorithm to reduce bodies of text but keeping its original meaning, or giving a great insight into the original text.: 4.4}"
            ]
          },
          "metadata": {
            "tags": []
          },
          "execution_count": 123
        }
      ]
    },
    {
      "cell_type": "code",
      "metadata": {
        "id": "CB2NZ5dIAQ5k",
        "colab_type": "code",
        "colab": {
          "base_uri": "https://localhost:8080/",
          "height": 35
        },
        "outputId": "35980c10-3abd-4535-f5cc-8d4eaaafae88"
      },
      "source": [
        "from heapq import nlargest\n",
        "select_length = int(len(sentence_tokens)*0.3)\n",
        "select_length"
      ],
      "execution_count": 124,
      "outputs": [
        {
          "output_type": "execute_result",
          "data": {
            "text/plain": [
              "2"
            ]
          },
          "metadata": {
            "tags": []
          },
          "execution_count": 124
        }
      ]
    },
    {
      "cell_type": "code",
      "metadata": {
        "id": "qESXhSQcAg5b",
        "colab_type": "code",
        "colab": {
          "base_uri": "https://localhost:8080/",
          "height": 74
        },
        "outputId": "4dff5813-e2e8-45c3-906e-665529cb96f4"
      },
      "source": [
        "summary = nlargest(select_length,sent_scores,key=sent_scores.get)\n",
        "summary"
      ],
      "execution_count": 125,
      "outputs": [
        {
          "output_type": "execute_result",
          "data": {
            "text/plain": [
              "[today various organizations, be it online shopping, government and private sector organizations, catering and tourism industry or other institutions that offer customer services are concerned about their customers and ask for feedback every single time we use their services.,\n",
              " and one such application of text analytics and nlp is a feedback summarizer which helps in summarizing and shortening the text in the user feedback.]"
            ]
          },
          "metadata": {
            "tags": []
          },
          "execution_count": 125
        }
      ]
    },
    {
      "cell_type": "code",
      "metadata": {
        "id": "mIgVB1bzBlP3",
        "colab_type": "code",
        "colab": {
          "base_uri": "https://localhost:8080/",
          "height": 74
        },
        "outputId": "d20735be-6522-4396-9137-640f2ac78af3"
      },
      "source": [
        "final_summary = [word.text for word in summary]\n",
        "final_summary"
      ],
      "execution_count": 126,
      "outputs": [
        {
          "output_type": "execute_result",
          "data": {
            "text/plain": [
              "['today various organizations, be it online shopping, government and private sector organizations, catering and tourism industry or other institutions that offer customer services are concerned about their customers and ask for feedback every single time we use their services.',\n",
              " 'and one such application of text analytics and nlp is a feedback summarizer which helps in summarizing and shortening the text in the user feedback.']"
            ]
          },
          "metadata": {
            "tags": []
          },
          "execution_count": 126
        }
      ]
    },
    {
      "cell_type": "code",
      "metadata": {
        "id": "AlWGeO7aCT0E",
        "colab_type": "code",
        "colab": {
          "base_uri": "https://localhost:8080/",
          "height": 55
        },
        "outputId": "be7f4d29-cd65-4cb6-d495-c056de70feb7"
      },
      "source": [
        "summary = ''.join(final_summary)\n",
        "print(summary)"
      ],
      "execution_count": 127,
      "outputs": [
        {
          "output_type": "stream",
          "text": [
            "today various organizations, be it online shopping, government and private sector organizations, catering and tourism industry or other institutions that offer customer services are concerned about their customers and ask for feedback every single time we use their services.and one such application of text analytics and nlp is a feedback summarizer which helps in summarizing and shortening the text in the user feedback.\n"
          ],
          "name": "stdout"
        }
      ]
    },
    {
      "cell_type": "code",
      "metadata": {
        "id": "yyqvjA0VCsjn",
        "colab_type": "code",
        "colab": {}
      },
      "source": [
        ""
      ],
      "execution_count": 102,
      "outputs": []
    }
  ]
}